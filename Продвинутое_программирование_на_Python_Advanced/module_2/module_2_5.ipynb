{
 "cells": [
  {
   "cell_type": "code",
   "execution_count": 2,
   "metadata": {},
   "outputs": [
    {
     "name": "stdout",
     "output_type": "stream",
     "text": [
      "False\n",
      "True\n",
      "19700\n"
     ]
    }
   ],
   "source": [
    "# Задание 5.1\n",
    "\n",
    "class User:\n",
    "    def __init__(self, email, password, balance):\n",
    "        self.email = email\n",
    "        self.password = password\n",
    "        self.balance = balance\n",
    "\n",
    "    def login(self, email, password):\n",
    "        return (self.email == email) and (self.password == password)\n",
    "\n",
    "    def update_balance(self, amount):\n",
    "        self.balance += amount\n",
    "\n",
    "user = User(\"gosha@roskino.org\", \"qwerty\", 20_000)\n",
    "print(user.login(\"gosha@roskino.org\", \"qwerty123\"))\n",
    "# False\n",
    "print(user.login(\"gosha@roskino.org\", \"qwerty\"))\n",
    "# True\n",
    "user.update_balance(200)\n",
    "user.update_balance(-500)\n",
    "print(user.balance)\n",
    "# 19700"
   ]
  },
  {
   "cell_type": "code",
   "execution_count": 3,
   "metadata": {},
   "outputs": [
    {
     "name": "stdout",
     "output_type": "stream",
     "text": [
      "5\n",
      "4\n"
     ]
    }
   ],
   "source": [
    "# Задание 5.2\n",
    "\n",
    "class IntDataFrame:\n",
    "    def __init__(self, digits):\n",
    "        self.digits = list(map(int, digits))\n",
    "\n",
    "    def count(self):\n",
    "        counter = 0\n",
    "        for val in self.digits:\n",
    "            counter += val != 0\n",
    "        return counter  \n",
    "\n",
    "    def unique(self): \n",
    "        return len(set(self.digits))\n",
    "\n",
    "df = IntDataFrame([4.7, 4, 3, 0, 2.4, 0.3, 4])\n",
    "\n",
    "print(df.count())\n",
    "# 5\n",
    "print(df.unique())\n",
    "# 4"
   ]
  },
  {
   "cell_type": "code",
   "execution_count": 10,
   "metadata": {},
   "outputs": [
    {
     "name": "stdout",
     "output_type": "stream",
     "text": [
      "None\n",
      "Connection lost\n",
      "System started\n"
     ]
    }
   ],
   "source": [
    "# Задание 5.3 (Внешний источник)\n",
    "\n",
    "class OwnLogger:\n",
    "    def __init__(self):\n",
    "        self.logs = {\n",
    "            'info': None,\n",
    "            'warning': None, \n",
    "            'error': None,\n",
    "            'all': None\n",
    "        }\n",
    "        self.last_message = None\n",
    "\n",
    "    def log(self, message, level):\n",
    "        self.logs[level] = message\n",
    "        self.logs['all'] = message\n",
    "\n",
    "    def show_last(self, level='all'):\n",
    "        return self.logs[level]\n",
    "\n",
    "\n",
    "logger = OwnLogger()\n",
    "logger.log(\"System started\", \"info\")\n",
    "print(logger.show_last(\"error\"))\n",
    "# None\n",
    "# Некоторые интерпретаторы Python могут не выводить None, тогда в этой проверке у вас будет пустая строка\n",
    "logger.log(\"Connection instable\", \"warning\")\n",
    "logger.log(\"Connection lost\", \"error\")\n",
    "\n",
    "print(logger.show_last())\n",
    "# Connection lost\n",
    "print(logger.show_last(\"info\"))\n",
    "# System started\n",
    "\n",
    "    "
   ]
  }
 ],
 "metadata": {
  "kernelspec": {
   "display_name": "Python 3.10.8 64-bit (microsoft store)",
   "language": "python",
   "name": "python3"
  },
  "language_info": {
   "codemirror_mode": {
    "name": "ipython",
    "version": 3
   },
   "file_extension": ".py",
   "mimetype": "text/x-python",
   "name": "python",
   "nbconvert_exporter": "python",
   "pygments_lexer": "ipython3",
   "version": "3.10.9 (tags/v3.10.9:1dd9be6, Dec  6 2022, 20:01:21) [MSC v.1934 64 bit (AMD64)]"
  },
  "orig_nbformat": 4,
  "vscode": {
   "interpreter": {
    "hash": "955a8ee509f368f3e009b2775401356f4469072ca3e865983ab0ff4b3f2642db"
   }
  }
 },
 "nbformat": 4,
 "nbformat_minor": 2
}
