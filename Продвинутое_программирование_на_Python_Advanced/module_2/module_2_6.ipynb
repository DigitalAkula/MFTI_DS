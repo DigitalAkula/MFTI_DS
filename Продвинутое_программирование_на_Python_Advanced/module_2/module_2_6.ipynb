{
 "cells": [
  {
   "cell_type": "code",
   "execution_count": null,
   "metadata": {},
   "outputs": [],
   "source": [
    "# Задание 6.3 (Внешний источник)\n",
    "\n",
    "class Dog:\n",
    "    def bark(self, **kwargs):\n",
    "        return \"Bark!\"\n",
    "\n",
    "    def give_paw(self, **kwargs):\n",
    "        return \"Paw\""
   ]
  }
 ],
 "metadata": {
  "language_info": {
   "name": "python"
  },
  "orig_nbformat": 4
 },
 "nbformat": 4,
 "nbformat_minor": 2
}
