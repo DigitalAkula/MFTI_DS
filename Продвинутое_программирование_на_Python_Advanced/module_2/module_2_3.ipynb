{
 "cells": [
  {
   "cell_type": "code",
   "execution_count": 1,
   "metadata": {},
   "outputs": [],
   "source": [
    "# Задание 3.2 (Внешний источник)\n",
    "\n",
    "# Введите свое решение ниже\n",
    "class DepartmentReport():  \n",
    "    pass  "
   ]
  },
  {
   "cell_type": "code",
   "execution_count": null,
   "metadata": {},
   "outputs": [],
   "source": [
    "# Задание 3.3 (Внешний источник)\n",
    "\n",
    "# Введите свое решение ниже\n",
    "class DepartmentReport():  \n",
    "    pass  \n",
    "\n",
    "department_report = DepartmentReport()"
   ]
  }
 ],
 "metadata": {
  "kernelspec": {
   "display_name": "Python 3.10.8 64-bit (microsoft store)",
   "language": "python",
   "name": "python3"
  },
  "language_info": {
   "codemirror_mode": {
    "name": "ipython",
    "version": 3
   },
   "file_extension": ".py",
   "mimetype": "text/x-python",
   "name": "python",
   "nbconvert_exporter": "python",
   "pygments_lexer": "ipython3",
   "version": "3.10.9 (tags/v3.10.9:1dd9be6, Dec  6 2022, 20:01:21) [MSC v.1934 64 bit (AMD64)]"
  },
  "orig_nbformat": 4,
  "vscode": {
   "interpreter": {
    "hash": "955a8ee509f368f3e009b2775401356f4469072ca3e865983ab0ff4b3f2642db"
   }
  }
 },
 "nbformat": 4,
 "nbformat_minor": 2
}
