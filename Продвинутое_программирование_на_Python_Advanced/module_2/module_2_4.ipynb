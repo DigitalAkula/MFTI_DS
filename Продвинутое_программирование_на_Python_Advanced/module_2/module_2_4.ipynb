{
 "cells": [
  {
   "cell_type": "code",
   "execution_count": 2,
   "metadata": {},
   "outputs": [
    {
     "name": "stdout",
     "output_type": "stream",
     "text": [
      "[1000000, 400000]\n",
      "700000.0\n"
     ]
    }
   ],
   "source": [
    "# Задание 4.1\n",
    "\n",
    "# Введите свое решение ниже\n",
    "class DepartmentReport():  \n",
    "    def __init__(self):\n",
    "        self.revenues = []\n",
    "\n",
    "    def add_revenue(self,  revenue):\n",
    "        self.revenues.append(revenue)\n",
    "        \n",
    "    def average_revenue(self):\n",
    "        return sum(self.revenues) / len(self.revenues)"
   ]
  },
  {
   "cell_type": "code",
   "execution_count": 5,
   "metadata": {},
   "outputs": [
    {
     "name": "stdout",
     "output_type": "stream",
     "text": [
      "Average department revenue for Danon: 700000\n"
     ]
    }
   ],
   "source": [
    "# Задание 4.4\n",
    "\n",
    "# Введите свое решение ниже\n",
    "class DepartmentReport():  \n",
    "    def __init__(self, company_name):\n",
    "        self.company = company_name\n",
    "        self.revenues = []\n",
    "\n",
    "    def add_revenue(self,  revenue):\n",
    "        self.revenues.append(revenue)\n",
    "        \n",
    "    def average_revenue(self):\n",
    "        avg = round(sum(self.revenues) / len(self.revenues))\n",
    "        result = f\"Average department revenue for {self.company}: {avg}\"\n",
    "        return result\n",
    "\n",
    "report = DepartmentReport(\"Danon\")\n",
    "report.add_revenue(1_000_000)\n",
    "report.add_revenue(400_000)\n",
    "\n",
    "print(report.average_revenue())"
   ]
  },
  {
   "cell_type": "code",
   "execution_count": null,
   "metadata": {},
   "outputs": [],
   "source": []
  }
 ],
 "metadata": {
  "kernelspec": {
   "display_name": "Python 3.10.8 64-bit (microsoft store)",
   "language": "python",
   "name": "python3"
  },
  "language_info": {
   "codemirror_mode": {
    "name": "ipython",
    "version": 3
   },
   "file_extension": ".py",
   "mimetype": "text/x-python",
   "name": "python",
   "nbconvert_exporter": "python",
   "pygments_lexer": "ipython3",
   "version": "3.10.9 (tags/v3.10.9:1dd9be6, Dec  6 2022, 20:01:21) [MSC v.1934 64 bit (AMD64)]"
  },
  "orig_nbformat": 4,
  "vscode": {
   "interpreter": {
    "hash": "955a8ee509f368f3e009b2775401356f4469072ca3e865983ab0ff4b3f2642db"
   }
  }
 },
 "nbformat": 4,
 "nbformat_minor": 2
}
